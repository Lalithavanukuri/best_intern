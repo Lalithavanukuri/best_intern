{
  "nbformat": 4,
  "nbformat_minor": 0,
  "metadata": {
    "colab": {
      "provenance": []
    },
    "kernelspec": {
      "name": "python3",
      "display_name": "Python 3"
    },
    "language_info": {
      "name": "python"
    }
  },
  "cells": [
    {
      "cell_type": "code",
      "source": [
        "import csv\n",
        "\n",
        "# Read the dataset from the CSV file\n",
        "file_path = \"/content/Applications_for_Machine_Learning_internship_edited.xlsx - Sheet1.csv\"  # Replace with the actual file path\n",
        "best_score = float('-inf')  # Initialize the best score to a very low value\n",
        "best_intern = {}\n",
        "\n",
        "with open(file_path, 'r') as file:\n",
        "    reader = csv.DictReader(file)\n",
        "\n",
        "    # Iterate through each entry in the dataset\n",
        "    for row in reader:\n",
        "        # Calculate the percentage from CGPA values\n",
        "        def calculate_percentage(cgpa):\n",
        "            if '/' in cgpa:\n",
        "                numerator, denominator = cgpa.split('/')\n",
        "                numerator = float(numerator.strip())\n",
        "                denominator = float(denominator.strip())\n",
        "                return (numerator / denominator) * 100\n",
        "            else:\n",
        "                return float(cgpa.strip())\n",
        "\n",
        "        # Calculate the score based on relevant attributes and weights\n",
        "        score = (\n",
        "            int(row['Python (out of 3)']) * 0.15 +\n",
        "            int(row['Machine Learning (out of 3)']) * 0.2 +\n",
        "            int(row['Natural Language Processing (NLP) (out of 3)']) * 0.2 +\n",
        "            int(row['Deep Learning (out of 3)']) * 0.2 +\n",
        "            len(row['Other skills'].split(',')) * 0.15 +\n",
        "            (1 if row['Availability'].lower() == 'yes' else 0) * 0.1 +\n",
        "            (1 if row['Degree'] != '' else 0) * 0.05 +\n",
        "            (1 if row['Stream'] != '' else 0) * 0.05 +\n",
        "            (1 if row['Current Year Of Graduation'] != '' else 0) * 0.05 +\n",
        "            (calculate_percentage(row['Performance_PG']) if row['Performance_PG'] != 'N/A' and row['Performance_PG'] != '' else 0) * 0.05 +\n",
        "            (calculate_percentage(row['Performance_UG']) if row['Performance_UG'] != 'N/A' and row['Performance_UG'] != '' else 0) * 0.05 +\n",
        "            (calculate_percentage(row['Performance_12']) if row['Performance_12'] != 'N/A' and row['Performance_12'] != '' else 0) * 0.05 +\n",
        "            (calculate_percentage(row['Performance_10']) if row['Performance_10'] != 'N/A' and row['Performance_10'] != '' else 0) * 0.05\n",
        "            # Add more attributes and their corresponding weights as needed\n",
        "        )\n",
        "\n",
        "        # Update the best intern if the current score is higher\n",
        "        if score > best_score:\n",
        "            best_score = score\n",
        "            best_intern = row\n",
        "\n",
        "# Print the details of the best intern\n",
        "print(\"Best Intern:\")\n",
        "print(\"Name:\", best_intern[\"Name\"])\n",
        "print(\"Score:\", best_score)\n",
        "# Add additional print statements for other attributes if desired\n"
      ],
      "metadata": {
        "colab": {
          "base_uri": "https://localhost:8080/"
        },
        "id": "RKncS2Q8UlOl",
        "outputId": "5b711e84-afbf-49e6-9434-c8f560f73b35"
      },
      "execution_count": 10,
      "outputs": [
        {
          "output_type": "stream",
          "name": "stdout",
          "text": [
            "Best Intern:\n",
            "Name: \n",
            "Score: 58.42142857142858\n"
          ]
        }
      ]
    },
    {
      "cell_type": "code",
      "source": [
        "import csv\n",
        "\n",
        "# Read the dataset from the CSV file\n",
        "file_path = \"/content/Applications_for_Machine_Learning_internship_edited.xlsx - Sheet1.csv\"  # Replace with the actual file path\n",
        "best_score = float('-inf')  # Initialize the best score to a very low value\n",
        "best_intern = {}\n",
        "best_intern_index = 0\n",
        "\n",
        "with open(file_path, 'r') as file:\n",
        "    reader = csv.DictReader(file)\n",
        "\n",
        "    # Iterate through each entry in the dataset\n",
        "    for i, row in enumerate(reader, start=1):\n",
        "        # Calculate the percentage from CGPA values\n",
        "        def calculate_percentage(cgpa):\n",
        "            if '/' in cgpa:\n",
        "                numerator, denominator = cgpa.split('/')\n",
        "                numerator = float(numerator.strip())\n",
        "                denominator = float(denominator.strip())\n",
        "                if numerator > denominator:\n",
        "                    return 0  # Skip this entry\n",
        "                return (numerator / denominator) * 100\n",
        "            else:\n",
        "                return float(cgpa.strip())\n",
        "\n",
        "        # Calculate the score based on relevant attributes and weights\n",
        "        score = (\n",
        "            int(row['Python (out of 3)']) * 0.3 +\n",
        "            int(row['Machine Learning (out of 3)']) * 0.3 +\n",
        "            int(row['Deep Learning (out of 3)']) * 0.3 +\n",
        "            len(row['Other skills'].split(',')) * 0.1 +\n",
        "            (1 if row['Availability'].lower() == 'yes' else 0) * 0.4 +\n",
        "            (1 if row['Degree'] != '' else 0) * 0.05 +\n",
        "            (1 if row['Stream'] != '' else 0) * 0.05 +\n",
        "            (1 if row['Current Year Of Graduation'] != '' else 0) * 0.05 +\n",
        "            (calculate_percentage(row['Performance_PG']) if row['Performance_PG'] != 'N/A' and row[\n",
        "                'Performance_PG'] != '' else 0) * 0.05 +\n",
        "            (calculate_percentage(row['Performance_UG']) if row['Performance_UG'] != 'N/A' and row[\n",
        "                'Performance_UG'] != '' else 0) * 0.05 +\n",
        "            (calculate_percentage(row['Performance_12']) if row['Performance_12'] != 'N/A' and row[\n",
        "                'Performance_12'] != '' else 0) * 0.05 +\n",
        "            (calculate_percentage(row['Performance_10']) if row['Performance_10'] != 'N/A' and row[\n",
        "                'Performance_10'] != '' else 0) * 0.05\n",
        "            # Add more attributes and their corresponding weights as needed\n",
        "        )\n",
        "\n",
        "        # Update the best intern if the current score is higher\n",
        "        if score > best_score:\n",
        "            best_score = score\n",
        "            best_intern = row\n",
        "            best_intern_index = i\n",
        "\n",
        "# Print the details of the best intern\n",
        "print(\"Best Intern:\")\n",
        "print(\"Name (Field Number):\", best_intern_index)\n",
        "print(\"Score:\", best_score)\n",
        "print(\"Python (out of 3):\", best_intern[\"Python (out of 3)\"])\n",
        "print(\"Machine Learning (out of 3):\", best_intern[\"Machine Learning (out of 3)\"])\n",
        "print(\"Deep Learning (out of 3):\", best_intern[\"Deep Learning (out of 3)\"])\n",
        "print(\"Other skills:\", best_intern[\"Other skills\"])\n",
        "print(\"Availability:\",\n",
        "      best_intern[\"Availability\"])\n",
        "print(\"Degree:\", best_intern[\"Degree\"])\n",
        "print(\"Stream:\", best_intern[\"Stream\"])\n",
        "print(\"Current Year Of Graduation:\", best_intern[\"Current Year Of Graduation\"])\n",
        "print(\"Performance_PG:\", best_intern[\"Performance_PG\"])\n",
        "print(\"Performance_UG:\", best_intern[\"Performance_UG\"])\n",
        "print(\"Performance_12:\", best_intern[\"Performance_12\"])\n",
        "print(\"Performance_10:\", best_intern[\"Performance_10\"])\n"
      ],
      "metadata": {
        "colab": {
          "base_uri": "https://localhost:8080/"
        },
        "id": "wPoHJCucZERn",
        "outputId": "f1b0ea88-392c-4094-9d00-cf8cbae689d9"
      },
      "execution_count": 21,
      "outputs": [
        {
          "output_type": "stream",
          "name": "stdout",
          "text": [
            "Best Intern:\n",
            "Name (Field Number): 247\n",
            "Score: 23.580000000000002\n",
            "Python (out of 3): 3\n",
            "Machine Learning (out of 3): 3\n",
            "Deep Learning (out of 3): 3\n",
            "Other skills: Deep Learning, Flask, Hadoop, JavaScript, Machine Learning, Natural Language Processing (NLP), Node.js, Power BI, Python, R Programming, REST API, ReactJS, SQL, Statistical Modeling, Statistics, Tableau, BIG DATA ANALYTICS, English Proficiency (Spoken), English Proficiency (Written), HTML, Linux, MS-Excel, MS-Office, MS-Word, Amazon Web Server (AWS), MS-PowerPoint\n",
            "Availability: Yes, I am available for 3 months starting immediately for a full-time internship.\n",
            "Degree: Master of Science (M.Sc)\n",
            "Stream: Economics\n",
            "Current Year Of Graduation: 2023\n",
            "Performance_PG: 8.16/10\n",
            "Performance_UG: 8.10/10\n",
            "Performance_12: 82.20/82.20\n",
            "Performance_10: 84.40/84.40\n"
          ]
        }
      ]
    }
  ]
}